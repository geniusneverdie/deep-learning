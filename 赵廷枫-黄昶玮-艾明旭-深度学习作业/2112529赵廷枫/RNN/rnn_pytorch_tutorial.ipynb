{
 "cells": [
  {
   "cell_type": "markdown",
   "id": "b0386667",
   "metadata": {},
   "source": [
    "# RNN Tutorial"
   ]
  },
  {
   "cell_type": "markdown",
   "id": "888043a3",
   "metadata": {},
   "source": [
    "Included in the data/names directory are 18 text files named as “[Language].txt”. Each file contains a bunch of names, one name per line, mostly romanized (but we still need to convert from Unicode to ASCII).\n",
    "\n",
    "We’ll end up with a dictionary of lists of names per language, {language: [names ...]}. The generic variables “category” and “line” (for language and name in our case) are used for later extensibility."
   ]
  },
  {
   "cell_type": "code",
   "execution_count": 97,
   "id": "b44343fa",
   "metadata": {
    "scrolled": true
   },
   "outputs": [
    {
     "name": "stdout",
     "output_type": "stream",
     "text": [
      "['./data/names\\\\Arabic.txt', './data/names\\\\Chinese.txt', './data/names\\\\Czech.txt', './data/names\\\\Dutch.txt', './data/names\\\\English.txt', './data/names\\\\French.txt', './data/names\\\\German.txt', './data/names\\\\Greek.txt', './data/names\\\\Irish.txt', './data/names\\\\Italian.txt', './data/names\\\\Japanese.txt', './data/names\\\\Korean.txt', './data/names\\\\Polish.txt', './data/names\\\\Portuguese.txt', './data/names\\\\Russian.txt', './data/names\\\\Scottish.txt', './data/names\\\\Spanish.txt', './data/names\\\\Vietnamese.txt']\n",
      "Slusarski\n",
      "18\n"
     ]
    }
   ],
   "source": [
    "from __future__ import unicode_literals, print_function, division\n",
    "from io import open\n",
    "import glob\n",
    "import os\n",
    "\n",
    "def findFiles(path): return glob.glob(path)\n",
    "\n",
    "print(findFiles('./data/names/*.txt'))\n",
    "\n",
    "import unicodedata\n",
    "import string\n",
    "\n",
    "all_letters = string.ascii_letters + \" .,;'\"\n",
    "n_letters = len(all_letters)\n",
    "\n",
    "# Turn a Unicode string to plain ASCII, thanks to https://stackoverflow.com/a/518232/2809427\n",
    "def unicodeToAscii(s):\n",
    "    return ''.join(\n",
    "        c for c in unicodedata.normalize('NFD', s)\n",
    "        if unicodedata.category(c) != 'Mn'\n",
    "        and c in all_letters\n",
    "    )\n",
    "\n",
    "print(unicodeToAscii('Ślusàrski'))\n",
    "\n",
    "# Build the category_lines dictionary, a list of names per language\n",
    "category_lines = {}\n",
    "all_categories = []\n",
    "\n",
    "# Read a file and split into lines\n",
    "def readLines(filename):\n",
    "    lines = open(filename, encoding='utf-8').read().strip().split('\\n')\n",
    "    return [unicodeToAscii(line) for line in lines]\n",
    "\n",
    "for filename in findFiles('./data/names/*.txt'):\n",
    "    category = os.path.splitext(os.path.basename(filename))[0]\n",
    "    all_categories.append(category)\n",
    "    lines = readLines(filename)\n",
    "    category_lines[category] = lines\n",
    "\n",
    "n_categories = len(all_categories)\n",
    "print(n_categories)"
   ]
  },
  {
   "cell_type": "markdown",
   "id": "e58f58a0",
   "metadata": {},
   "source": [
    "Now we have category_lines, a dictionary mapping each category (language) to a list of lines (names). We also kept track of all_categories (just a list of languages) and n_categories for later reference."
   ]
  },
  {
   "cell_type": "code",
   "execution_count": 98,
   "id": "03a992d9",
   "metadata": {},
   "outputs": [
    {
     "name": "stdout",
     "output_type": "stream",
     "text": [
      "['Abandonato', 'Abatangelo', 'Abatantuono', 'Abate', 'Abategiovanni']\n"
     ]
    }
   ],
   "source": [
    "print(category_lines['Italian'][:5])"
   ]
  },
  {
   "cell_type": "markdown",
   "id": "6c219cf0",
   "metadata": {},
   "source": [
    "### Turning Names into Tensors\n",
    "Now that we have all the names organized, we need to turn them into Tensors to make any use of them.\n",
    "\n",
    "To represent a single letter, we use a “one-hot vector” of size <1 x n_letters>. A one-hot vector is filled with 0s except for a 1 at index of the current letter, e.g. \"b\" = <0 1 0 0 0 ...>.\n",
    "\n",
    "To make a word we join a bunch of those into a 2D matrix <line_length x 1 x n_letters>.\n",
    "\n",
    "That extra 1 dimension is because PyTorch assumes everything is in batches - we’re just using a batch size of 1 here."
   ]
  },
  {
   "cell_type": "code",
   "execution_count": 99,
   "id": "c479aae7",
   "metadata": {
    "scrolled": true
   },
   "outputs": [
    {
     "name": "stdout",
     "output_type": "stream",
     "text": [
      "tensor([[0., 0., 0., 0., 0., 0., 0., 0., 0., 0., 0., 0., 0., 0., 0., 0., 0., 0.,\n",
      "         0., 0., 0., 0., 0., 0., 0., 0., 0., 0., 0., 0., 0., 0., 0., 0., 0., 1.,\n",
      "         0., 0., 0., 0., 0., 0., 0., 0., 0., 0., 0., 0., 0., 0., 0., 0., 0., 0.,\n",
      "         0., 0., 0.]])\n",
      "torch.Size([5, 1, 57])\n"
     ]
    }
   ],
   "source": [
    "import torch\n",
    "\n",
    "# Find letter index from all_letters, e.g. \"a\" = 0\n",
    "def letterToIndex(letter):\n",
    "    return all_letters.find(letter)\n",
    "\n",
    "# Just for demonstration, turn a letter into a <1 x n_letters> Tensor\n",
    "def letterToTensor(letter):\n",
    "    tensor = torch.zeros(1, n_letters)\n",
    "    tensor[0][letterToIndex(letter)] = 1\n",
    "    return tensor\n",
    "\n",
    "# Turn a line into a <line_length x 1 x n_letters>,\n",
    "# or an array of one-hot letter vectors\n",
    "def lineToTensor(line):\n",
    "    tensor = torch.zeros(len(line), 1, n_letters)\n",
    "    for li, letter in enumerate(line):\n",
    "        tensor[li][0][letterToIndex(letter)] = 1\n",
    "    return tensor\n",
    "\n",
    "print(letterToTensor('J'))\n",
    "\n",
    "print(lineToTensor('Jones').size())"
   ]
  },
  {
   "cell_type": "markdown",
   "id": "8a979493",
   "metadata": {},
   "source": [
    "### Creating the Network\n",
    "Before autograd, creating a recurrent neural network in Torch involved cloning the parameters of a layer over several timesteps. The layers held hidden state and gradients which are now entirely handled by the graph itself. This means you can implement a RNN in a very “pure” way, as regular feed-forward layers.\n",
    "\n",
    "This RNN module (mostly copied from the PyTorch for Torch users tutorial) is just 2 linear layers which operate on an input and hidden state, with a LogSoftmax layer after the output."
   ]
  },
  {
   "attachments": {
    "rnn.png": {
     "image/png": "[encoded data removed]"
    }
   },
   "cell_type": "markdown",
   "id": "a5802423",
   "metadata": {},
   "source": [
    "![rnn.png](attachment:rnn.png)"
   ]
  },
  {
   "cell_type": "code",
   "execution_count": 4,
   "id": "cc618041",
   "metadata": {},
   "outputs": [
    {
     "name": "stdout",
     "output_type": "stream",
     "text": [
      "RNN(\n",
      "  (i2h): Linear(in_features=185, out_features=128, bias=True)\n",
      "  (i2o): Linear(in_features=185, out_features=18, bias=True)\n",
      "  (softmax): LogSoftmax(dim=1)\n",
      ")\n"
     ]
    }
   ],
   "source": [
    "import torch.nn as nn\n",
    "\n",
    "class RNN(nn.Module):\n",
    "    def __init__(self, input_size, hidden_size, output_size):\n",
    "        super(RNN, self).__init__()\n",
    "\n",
    "        self.hidden_size = hidden_size\n",
    "\n",
    "        self.i2h = nn.Linear(input_size + hidden_size, hidden_size)\n",
    "        self.i2o = nn.Linear(input_size + hidden_size, output_size)\n",
    "        self.softmax = nn.LogSoftmax(dim=1)\n",
    "\n",
    "    def forward(self, input, hidden):\n",
    "        combined = torch.cat((input, hidden), 1)\n",
    "        hidden = self.i2h(combined)\n",
    "        output = self.i2o(combined)\n",
    "        output = self.softmax(output)\n",
    "        return output, hidden\n",
    "\n",
    "    def initHidden(self):\n",
    "        return torch.zeros(1, self.hidden_size)\n",
    "\n",
    "n_hidden = 128\n",
    "lstm = RNN(n_letters, n_hidden, n_categories)\n",
    "print(lstm)"
   ]
  },
  {
   "cell_type": "code",
   "execution_count": 48,
   "id": "c27f5033",
   "metadata": {},
   "outputs": [
    {
     "name": "stdout",
     "output_type": "stream",
     "text": [
      "LSTM(\n",
      "  (lstm): LSTM(57, 64)\n",
      "  (out): Linear(in_features=64, out_features=18, bias=True)\n",
      "  (softmax): LogSoftmax(dim=-1)\n",
      ")\n"
     ]
    }
   ],
   "source": [
    "import torch.nn as nn\n",
    "\n",
    "class LSTM(nn.Module):\n",
    "    def __init__(self, input_size, hidden_size, output_size):\n",
    "        super(LSTM, self).__init__()\n",
    "\n",
    "        self.hidden_size = hidden_size\n",
    "\n",
    "        self.lstm = nn.LSTM(input_size, hidden_size)\n",
    "        self.out = nn.Linear(hidden_size, output_size)\n",
    "        self.softmax = nn.LogSoftmax(dim=-1)\n",
    "\n",
    "    def forward(self, input, h, c):\n",
    "#         combined = torch.cat((input, hidden), 1)\n",
    "        out, (h, c) = self.lstm(input, (h, c))\n",
    "        output = self.out(out)\n",
    "        output = self.softmax(output)\n",
    "        return output, h, c\n",
    "\n",
    "    def initHidden(self):\n",
    "        return torch.zeros(1, 1, self.hidden_size), torch.zeros(1, 1, self.hidden_size)\n",
    "\n",
    "n_hidden = 64\n",
    "lstm = LSTM(n_letters, n_hidden, n_categories)\n",
    "print(lstm)"
   ]
  },
  {
   "cell_type": "code",
   "execution_count": 129,
   "id": "ad989211",
   "metadata": {},
   "outputs": [
    {
     "name": "stdout",
     "output_type": "stream",
     "text": [
      "MyLSTM(\n",
      "  (out): Linear(in_features=64, out_features=18, bias=True)\n",
      "  (softmax): LogSoftmax(dim=-1)\n",
      ")\n"
     ]
    }
   ],
   "source": [
    "import torch\n",
    "import torch.nn as nn\n",
    "from torch.nn import Parameter\n",
    "from enum import IntEnum\n",
    "\n",
    "class Dim(IntEnum):\n",
    "    batch = 0\n",
    "    seq = 1\n",
    "    feature = 2\n",
    "\n",
    "class MyLSTM(nn.Module):\n",
    "\n",
    "    def __init__(self, input_size, hidden_size,num_classes):\n",
    "        super(MyLSTM, self).__init__()\n",
    "        self.input_size = input_size\n",
    "        self.hidden_size = hidden_size\n",
    "        self.num_classes = num_classes\n",
    "        \n",
    "        self.out = nn.Linear(hidden_size, num_classes)\n",
    "        self.softmax = nn.LogSoftmax(dim=-1)\n",
    "        \n",
    "        # self.batch_first = batch_first\n",
    "\n",
    "        # 输入门i_t\n",
    "        self.W_i = Parameter(torch.Tensor(input_size, hidden_size))\n",
    "        self.U_i = Parameter(torch.Tensor(hidden_size, hidden_size))\n",
    "        self.b_i = Parameter(torch.Tensor(hidden_size))\n",
    "        # 遗忘门f_t\n",
    "        self.W_f = Parameter(torch.Tensor(input_size, hidden_size))\n",
    "        self.U_f = Parameter(torch.Tensor(hidden_size, hidden_size))\n",
    "        self.b_f = Parameter(torch.Tensor(hidden_size))\n",
    "        # 候选内部状态g_t\n",
    "        self.W_g = Parameter(torch.Tensor(input_size, hidden_size))\n",
    "        self.U_g = Parameter(torch.Tensor(hidden_size, hidden_size))\n",
    "        self.b_g = Parameter(torch.Tensor(hidden_size))\n",
    "        # 输出门o_t\n",
    "        self.W_o = Parameter(torch.Tensor(input_size, hidden_size))\n",
    "        self.U_o = Parameter(torch.Tensor(hidden_size, hidden_size))\n",
    "        self.b_o = Parameter(torch.Tensor(hidden_size))\n",
    "\n",
    "        # 初始化参数\n",
    "        self._initialize_weights()\n",
    "    \n",
    "    def _initialize_weights(self):\n",
    "        for p in self.parameters():\n",
    "            if p.data.ndimension() >= 2:\n",
    "                nn.init.xavier_uniform_(p.data)\n",
    "            else:\n",
    "                nn.init.zeros_(p.data)\n",
    "\n",
    "    def initHidden(self, x):\n",
    "        h_t = torch.zeros(1, x.size(0), self.hidden_size, dtype=x.dtype).to(x.device)\n",
    "        c_t = torch.zeros(1, x.size(0), self.hidden_size, dtype=x.dtype).to(x.device)\n",
    "        return h_t, c_t\n",
    "\n",
    "    def forward(self, x, init_states=None):\n",
    "\n",
    "        # if self.batch_first:\n",
    "        #     x = x.transpose(Dim.batch, Dim.seq)\n",
    "\n",
    "        batch_size, seq_size, _ = x.size()\n",
    "        hidden_seq = []\n",
    "\n",
    "        # 状态初始化\n",
    "        if init_states is None:\n",
    "            h_t, c_t = self.initHidden(x)\n",
    "        else:\n",
    "            h_t, c_t = init_states\n",
    "\n",
    "        for t in range(seq_size):\n",
    "            x_t = x[:, t, :]\n",
    "            i_t = torch.sigmoid(x_t @ self.W_i + h_t @ self.U_i.T + self.b_i)\n",
    "            f_t = torch.sigmoid(x_t @ self.W_f + h_t @ self.U_f.T + self.b_f)\n",
    "            g_t = torch.tanh(x_t @ self.W_g + h_t @ self.U_g.T + self.b_g)\n",
    "            o_t = torch.sigmoid(x_t @ self.W_o + h_t @ self.U_o.T + self.b_o)\n",
    "            c_t = f_t * c_t + i_t * g_t\n",
    "            h_t = o_t * torch.tanh(c_t)\n",
    "            # hidden_seq.append(h_t.unsqueeze(Dim.seq))\n",
    "            hidden_seq.append(h_t)\n",
    "        # print(hidden_seq.size())\n",
    "        hidden_seq = torch.cat(hidden_seq, dim=Dim.batch)\n",
    "        # print(hidden_seq.size())\n",
    "        hidden_seq = hidden_seq.transpose(Dim.batch, Dim.seq).contiguous()\n",
    "        # print(hidden_seq.size())\n",
    "\n",
    "        output = self.out(hidden_seq)\n",
    "        output = self.softmax(output)\n",
    "        return output, h_t, c_t\n",
    "n_hidden = 64\n",
    "lstm=MyLSTM(n_letters, n_hidden, n_categories)\n",
    "print(lstm)\n"
   ]
  },
  {
   "cell_type": "markdown",
   "id": "9e1fa5ee",
   "metadata": {},
   "source": [
    "To run a step of this network we need to pass an input (in our case, the Tensor for the current letter) and a previous hidden state (which we initialize as zeros at first). We’ll get back the output (probability of each language) and a next hidden state (which we keep for the next step)."
   ]
  },
  {
   "cell_type": "code",
   "execution_count": 130,
   "id": "b4b9eecb",
   "metadata": {},
   "outputs": [
    {
     "name": "stdout",
     "output_type": "stream",
     "text": [
      "torch.Size([1, 57])\n",
      "torch.Size([1, 1, 64])\n",
      "torch.Size([1, 1, 64])\n",
      "torch.Size([1, 18])\n"
     ]
    }
   ],
   "source": [
    "input = letterToTensor('A')\n",
    "print(input.size())\n",
    "# hidden = torch.zeros(1, n_hidden)\n",
    "\n",
    "# rnn\n",
    "# h=lstm.initHidden()\n",
    "# output, h = lstm(input, h)\n",
    "\n",
    "# print(output.size())\n",
    "\n",
    "# lstm\n",
    "h, c = lstm.initHidden(input.unsqueeze(1))\n",
    "# output,h,c = lstm(input.unsqueeze(1), h, c)\n",
    "\n",
    "output,h,c = lstm(input.unsqueeze(1), (h, c))\n",
    "print(h.size())\n",
    "print(c.size())\n",
    "print(output[-1].size())"
   ]
  },
  {
   "cell_type": "markdown",
   "id": "eb17c8f1",
   "metadata": {},
   "source": [
    "For the sake of efficiency we don’t want to be creating a new Tensor for every step, so we will use lineToTensor instead of letterToTensor and use slices. This could be further optimized by pre-computing batches of Tensors."
   ]
  },
  {
   "cell_type": "code",
   "execution_count": 131,
   "id": "b5c2d9ad",
   "metadata": {},
   "outputs": [
    {
     "name": "stdout",
     "output_type": "stream",
     "text": [
      "torch.Size([6, 1, 57])\n",
      "torch.Size([1, 18])\n"
     ]
    }
   ],
   "source": [
    "input = lineToTensor('Albert')\n",
    "print(input.size())\n",
    "hidden = torch.zeros(1, n_hidden)\n",
    "# print(hidden)\n",
    "\n",
    "# rnn\n",
    "# h = lstm.initHidden()\n",
    "# print(h.size())\n",
    "# for i in range(input.size()[0]):\n",
    "#     output,h = lstm(input[i], h)\n",
    "# print(output.size())\n",
    "# output, h = lstm(input, h)\n",
    "# print(torch.exp(output))\n",
    "\n",
    "# lstm\n",
    "h, c = lstm.initHidden(input)\n",
    "output, h, c = lstm(input, (h, c))\n",
    "# print(output)\n",
    "# print(output[-1])\n",
    "print(output[-1].size())\n",
    "# print(h.size())\n",
    "# print(c.size())\n",
    "# print(torch.exp(output))"
   ]
  },
  {
   "cell_type": "markdown",
   "id": "7cf3d70c",
   "metadata": {},
   "source": [
    "As you can see the output is a <1 x n_categories> Tensor, where every item is the likelihood of that category (higher is more likely)."
   ]
  },
  {
   "cell_type": "markdown",
   "id": "5b07c378",
   "metadata": {},
   "source": [
    "### Preparing for Training\n",
    "Before going into training we should make a few helper functions. The first is to interpret the output of the network, which we know to be a likelihood of each category. We can use Tensor.topk to get the index of the greatest value:"
   ]
  },
  {
   "cell_type": "code",
   "execution_count": 136,
   "id": "0fa90972",
   "metadata": {},
   "outputs": [
    {
     "name": "stdout",
     "output_type": "stream",
     "text": [
      "('French', 5)\n"
     ]
    }
   ],
   "source": [
    "def categoryFromOutput(output):\n",
    "    top_n, top_i = output.topk(1)\n",
    "    category_i = top_i[0].item()\n",
    "    return all_categories[category_i], category_i\n",
    "\n",
    "print(categoryFromOutput(output[-1]))"
   ]
  },
  {
   "cell_type": "markdown",
   "id": "627e3f73",
   "metadata": {},
   "source": [
    "We will also want a quick way to get a training example (a name and its language):"
   ]
  },
  {
   "cell_type": "code",
   "execution_count": 137,
   "id": "2c3ee352",
   "metadata": {},
   "outputs": [
    {
     "name": "stdout",
     "output_type": "stream",
     "text": [
      "torch.Size([6, 1, 57])\n",
      "tensor([3])\n",
      "category = Dutch / line = Hautum\n",
      "torch.Size([5, 1, 57])\n",
      "tensor([16])\n",
      "category = Spanish / line = Garza\n",
      "torch.Size([8, 1, 57])\n",
      "tensor([15])\n",
      "category = Scottish / line = Docherty\n",
      "torch.Size([4, 1, 57])\n",
      "tensor([9])\n",
      "category = Italian / line = Agli\n",
      "torch.Size([11, 1, 57])\n",
      "tensor([14])\n",
      "category = Russian / line = Shakhnovsky\n",
      "torch.Size([6, 1, 57])\n",
      "tensor([2])\n",
      "category = Czech / line = Ocasek\n",
      "torch.Size([6, 1, 57])\n",
      "tensor([10])\n",
      "category = Japanese / line = Yamaha\n",
      "torch.Size([3, 1, 57])\n",
      "tensor([1])\n",
      "category = Chinese / line = Wen\n",
      "torch.Size([7, 1, 57])\n",
      "tensor([2])\n",
      "category = Czech / line = Kolacny\n",
      "torch.Size([9, 1, 57])\n",
      "tensor([7])\n",
      "category = Greek / line = Petimezas\n"
     ]
    }
   ],
   "source": [
    "import random\n",
    "\n",
    "def randomChoice(l):\n",
    "    return l[random.randint(0, len(l) - 1)]\n",
    "\n",
    "def randomTrainingExample():\n",
    "    category = randomChoice(all_categories)\n",
    "    line = randomChoice(category_lines[category])\n",
    "    category_tensor = torch.tensor([all_categories.index(category)], dtype=torch.long)\n",
    "    line_tensor = lineToTensor(line)\n",
    "    return category, line, category_tensor, line_tensor\n",
    "\n",
    "for i in range(10):\n",
    "    category, line, category_tensor, line_tensor = randomTrainingExample()\n",
    "    # print(line_tensor)\n",
    "    print(line_tensor.size())\n",
    "    print(category_tensor)\n",
    "    print('category =', category, '/ line =', line)"
   ]
  },
  {
   "cell_type": "markdown",
   "id": "c40c4996",
   "metadata": {},
   "source": [
    "### Training the Network\n",
    "Now all it takes to train this network is show it a bunch of examples, have it make guesses, and tell it if it’s wrong.\n",
    "\n",
    "For the loss function nn.NLLLoss is appropriate, since the last layer of the RNN is nn.LogSoftmax."
   ]
  },
  {
   "cell_type": "code",
   "execution_count": 138,
   "id": "122bdeff",
   "metadata": {},
   "outputs": [],
   "source": [
    "criterion = nn.NLLLoss()"
   ]
  },
  {
   "cell_type": "markdown",
   "id": "e304bb71",
   "metadata": {},
   "source": [
    "Each loop of training will:\n",
    "\n",
    "- Create input and target tensors\n",
    "- Create a zeroed initial hidden state\n",
    "- Read each letter in and keep hidden state for next letter\n",
    "- Compare final output to target\n",
    "- Back-propagate\n",
    "- Return the output and loss"
   ]
  },
  {
   "cell_type": "code",
   "execution_count": 139,
   "id": "602ea715",
   "metadata": {},
   "outputs": [],
   "source": [
    "learning_rate = 0.005 # If you set this too high, it might explode. If too low, it might not learn\n",
    "\n",
    "\n",
    "# rnn\n",
    "# def train(category_tensor, line_tensor):\n",
    "#     hidden = lstm.initHidden()\n",
    "\n",
    "#     lstm.zero_grad()\n",
    "\n",
    "#     # print(line_tensor.size())\n",
    "#     for i in range(line_tensor.size()[0]):\n",
    "#         output, hidden = lstm(line_tensor[i], hidden)\n",
    "\n",
    "#     loss = criterion(output, category_tensor)\n",
    "#     loss.backward()\n",
    "\n",
    "#     # Add parameters' gradients to their values, multiplied by learning rate\n",
    "#     for p in lstm.parameters():\n",
    "#         p.data.add_(p.grad.data, alpha=-learning_rate)\n",
    "\n",
    "#     return output, loss.item()\n",
    "\n",
    "# lstm\n",
    "def train(category_tensor, line_tensor):\n",
    "    h0, c0 = lstm.initHidden(line_tensor)\n",
    "\n",
    "    lstm.zero_grad()\n",
    "\n",
    "#     print(line_tensor.size())\n",
    "#     for i in range(line_tensor.size()[0]):\n",
    "#         output, hidden = rnn(line_tensor[i], hidden)\n",
    "    output, h, c = lstm(line_tensor, (h0, c0))\n",
    "\n",
    "    loss = criterion(output[-1], category_tensor)\n",
    "    loss.backward()\n",
    "\n",
    "    # Add parameters' gradients to their values, multiplied by learning rate\n",
    "    for p in lstm.parameters():\n",
    "        p.data.add_(p.grad.data, alpha=-learning_rate)\n",
    "\n",
    "    return output, loss.item()"
   ]
  },
  {
   "cell_type": "markdown",
   "id": "eed19e81",
   "metadata": {},
   "source": [
    "Now we just have to run that with a bunch of examples. Since the train function returns both the output and loss we can print its guesses and also keep track of loss for plotting. Since there are 1000s of examples we print only every print_every examples, and take an average of the loss."
   ]
  },
  {
   "cell_type": "code",
   "execution_count": 140,
   "id": "e0dfe2c3",
   "metadata": {},
   "outputs": [
    {
     "name": "stdout",
     "output_type": "stream",
     "text": [
      "5000 1% (0m 4s) 2.8752 Hoshino / Italian ✗ (Japanese)\n",
      "5000 1% (0m 4s) 2.8752 Hoshino / Italian ✗ (Japanese) Accuracy: 8.36%\n",
      "10000 3% (0m 9s) 2.9153 Wirner / Scottish ✗ (German)\n",
      "10000 3% (0m 9s) 2.9153 Wirner / Scottish ✗ (German) Accuracy: 14.88%\n",
      "15000 5% (0m 14s) 2.8480 Rameckers / Greek ✗ (Dutch)\n",
      "15000 5% (0m 14s) 2.8480 Rameckers / Greek ✗ (Dutch) Accuracy: 19.84%\n",
      "20000 6% (0m 18s) 2.6195 Scordato / Italian ✓\n",
      "20000 6% (0m 18s) 2.6195 Scordato / Italian ✓ Accuracy: 25.20%\n",
      "25000 8% (0m 22s) 2.6455 Lieu / Vietnamese ✓\n",
      "25000 8% (0m 22s) 2.6455 Lieu / Vietnamese ✓ Accuracy: 25.54%\n",
      "30000 10% (0m 27s) 2.8117 Kalb / German ✗ (Arabic)\n",
      "30000 10% (0m 27s) 2.8117 Kalb / German ✗ (Arabic) Accuracy: 27.84%\n",
      "35000 11% (0m 31s) 2.7314 Nader / German ✗ (Arabic)\n",
      "35000 11% (0m 31s) 2.7314 Nader / German ✗ (Arabic) Accuracy: 27.70%\n",
      "40000 13% (0m 36s) 2.4623 Quigley / Russian ✗ (Irish)\n",
      "40000 13% (0m 36s) 2.4623 Quigley / Russian ✗ (Irish) Accuracy: 28.08%\n",
      "45000 15% (0m 41s) 2.3819 Vann / Irish ✗ (English)\n",
      "45000 15% (0m 41s) 2.3819 Vann / Irish ✗ (English) Accuracy: 27.12%\n",
      "50000 16% (0m 45s) 2.4282 Watt / French ✗ (Scottish)\n",
      "50000 16% (0m 45s) 2.4282 Watt / French ✗ (Scottish) Accuracy: 27.26%\n",
      "55000 18% (0m 53s) 1.8671 Hoang / Chinese ✗ (Vietnamese)\n",
      "55000 18% (0m 53s) 1.8671 Hoang / Chinese ✗ (Vietnamese) Accuracy: 27.40%\n",
      "60000 20% (0m 59s) 3.8838 Oliver / German ✗ (Spanish)\n",
      "60000 20% (0m 59s) 3.8838 Oliver / German ✗ (Spanish) Accuracy: 26.14%\n",
      "65000 21% (1m 3s) 0.2438 Onilov / Russian ✓\n",
      "65000 21% (1m 3s) 0.2438 Onilov / Russian ✓ Accuracy: 28.86%\n",
      "70000 23% (1m 7s) 1.2037 Mancini / Italian ✓\n",
      "70000 23% (1m 7s) 1.2037 Mancini / Italian ✓ Accuracy: 28.50%\n",
      "75000 25% (1m 12s) 2.6653 Daele / French ✗ (Dutch)\n",
      "75000 25% (1m 12s) 2.6653 Daele / French ✗ (Dutch) Accuracy: 28.76%\n",
      "80000 26% (1m 16s) 3.1942 Mateu / Vietnamese ✗ (Spanish)\n",
      "80000 26% (1m 16s) 3.1942 Mateu / Vietnamese ✗ (Spanish) Accuracy: 28.24%\n",
      "85000 28% (1m 25s) 2.0239 Salcedo / Italian ✗ (Spanish)\n",
      "85000 28% (1m 25s) 2.0239 Salcedo / Italian ✗ (Spanish) Accuracy: 28.10%\n",
      "90000 30% (1m 30s) 3.3364 Cousineau / Vietnamese ✗ (French)\n",
      "90000 30% (1m 30s) 3.3364 Cousineau / Vietnamese ✗ (French) Accuracy: 28.56%\n",
      "95000 31% (1m 35s) 2.4340 Neville / French ✗ (Irish)\n",
      "95000 31% (1m 35s) 2.4340 Neville / French ✗ (Irish) Accuracy: 28.30%\n",
      "100000 33% (1m 40s) 1.0817 Nunez / Spanish ✓\n",
      "100000 33% (1m 40s) 1.0817 Nunez / Spanish ✓ Accuracy: 27.64%\n",
      "105000 35% (1m 45s) 3.0823 Macdermott / French ✗ (Irish)\n",
      "105000 35% (1m 45s) 3.0823 Macdermott / French ✗ (Irish) Accuracy: 28.08%\n",
      "110000 36% (1m 52s) 2.6404 Pho / Portuguese ✗ (Vietnamese)\n",
      "110000 36% (1m 52s) 2.6404 Pho / Portuguese ✗ (Vietnamese) Accuracy: 28.18%\n",
      "115000 38% (2m 7s) 5.3564 Wei / Italian ✗ (German)\n",
      "115000 38% (2m 7s) 5.3564 Wei / Italian ✗ (German) Accuracy: 27.88%\n",
      "120000 40% (2m 14s) 2.4348 Jian / Irish ✗ (Chinese)\n",
      "120000 40% (2m 14s) 2.4348 Jian / Irish ✗ (Chinese) Accuracy: 28.12%\n",
      "125000 41% (2m 21s) 2.3621 Schneiders / Greek ✗ (Dutch)\n",
      "125000 41% (2m 21s) 2.3621 Schneiders / Greek ✗ (Dutch) Accuracy: 28.04%\n",
      "130000 43% (2m 26s) 2.0826 Murphy / Irish ✗ (Scottish)\n",
      "130000 43% (2m 26s) 2.0826 Murphy / Irish ✗ (Scottish) Accuracy: 27.48%\n",
      "135000 45% (2m 30s) 1.3878 Trieu / Vietnamese ✓\n",
      "135000 45% (2m 30s) 1.3878 Trieu / Vietnamese ✓ Accuracy: 28.76%\n",
      "140000 46% (2m 35s) 4.2826 To The First Page / French ✗ (Russian)\n",
      "140000 46% (2m 35s) 4.2826 To The First Page / French ✗ (Russian) Accuracy: 28.72%\n",
      "145000 48% (2m 40s) 1.5189 Rudaski / Italian ✗ (Polish)\n",
      "145000 48% (2m 40s) 1.5189 Rudaski / Italian ✗ (Polish) Accuracy: 28.98%\n",
      "150000 50% (2m 46s) 2.4997 Naifeh / Vietnamese ✗ (Arabic)\n",
      "150000 50% (2m 46s) 2.4997 Naifeh / Vietnamese ✗ (Arabic) Accuracy: 27.44%\n",
      "155000 51% (2m 50s) 1.8546 Till / Czech ✓\n",
      "155000 51% (2m 50s) 1.8546 Till / Czech ✓ Accuracy: 28.90%\n",
      "160000 53% (2m 54s) 0.0220 Shahmametiev / Russian ✓\n",
      "160000 53% (2m 54s) 0.0220 Shahmametiev / Russian ✓ Accuracy: 26.90%\n",
      "165000 55% (2m 59s) 2.8482 Nussenbaum / Korean ✗ (German)\n",
      "165000 55% (2m 59s) 2.8482 Nussenbaum / Korean ✗ (German) Accuracy: 28.08%\n",
      "170000 56% (3m 3s) 2.1630 Sniders / Greek ✗ (Dutch)\n",
      "170000 56% (3m 3s) 2.1630 Sniders / Greek ✗ (Dutch) Accuracy: 28.16%\n",
      "175000 58% (3m 7s) 2.1913 Almeida / Japanese ✗ (Portuguese)\n",
      "175000 58% (3m 7s) 2.1913 Almeida / Japanese ✗ (Portuguese) Accuracy: 27.70%\n",
      "180000 60% (3m 12s) 2.0902 Gray / Irish ✗ (Scottish)\n",
      "180000 60% (3m 12s) 2.0902 Gray / Irish ✗ (Scottish) Accuracy: 28.98%\n",
      "185000 61% (3m 16s) 3.0614 Daniells / Greek ✗ (English)\n",
      "185000 61% (3m 16s) 3.0614 Daniells / Greek ✗ (English) Accuracy: 29.42%\n",
      "190000 63% (3m 20s) 2.7879 Bui / Italian ✗ (Vietnamese)\n",
      "190000 63% (3m 20s) 2.7879 Bui / Italian ✗ (Vietnamese) Accuracy: 28.64%\n",
      "195000 65% (3m 25s) 2.3856 Bruckner / German ✗ (Czech)\n",
      "195000 65% (3m 25s) 2.3856 Bruckner / German ✗ (Czech) Accuracy: 29.08%\n",
      "200000 66% (3m 29s) 1.8926 Chou / Vietnamese ✗ (Korean)\n",
      "200000 66% (3m 29s) 1.8926 Chou / Vietnamese ✗ (Korean) Accuracy: 28.50%\n",
      "205000 68% (3m 35s) 1.8143 Dubhain / Irish ✓\n",
      "205000 68% (3m 35s) 1.8143 Dubhain / Irish ✓ Accuracy: 28.98%\n",
      "210000 70% (3m 50s) 2.4255 Cui / Italian ✗ (Chinese)\n",
      "210000 70% (3m 50s) 2.4255 Cui / Italian ✗ (Chinese) Accuracy: 28.36%\n",
      "215000 71% (4m 3s) 2.0442 Maclean / Irish ✗ (Scottish)\n",
      "215000 71% (4m 3s) 2.0442 Maclean / Irish ✗ (Scottish) Accuracy: 28.96%\n",
      "220000 73% (4m 8s) 0.8403 Paraskos / Greek ✓\n",
      "220000 73% (4m 8s) 0.8403 Paraskos / Greek ✓ Accuracy: 28.58%\n",
      "225000 75% (4m 20s) 4.7555 Zha / Japanese ✗ (Chinese)\n",
      "225000 75% (4m 20s) 4.7555 Zha / Japanese ✗ (Chinese) Accuracy: 30.64%\n",
      "230000 76% (4m 35s) 0.7150 Moralez / Spanish ✓\n",
      "230000 76% (4m 35s) 0.7150 Moralez / Spanish ✓ Accuracy: 28.74%\n",
      "235000 78% (4m 52s) 2.1863 Marshall / Irish ✗ (Scottish)\n",
      "235000 78% (4m 52s) 2.1863 Marshall / Irish ✗ (Scottish) Accuracy: 29.44%\n",
      "240000 80% (5m 8s) 2.4379 Vo / Italian ✗ (Vietnamese)\n",
      "240000 80% (5m 8s) 2.4379 Vo / Italian ✗ (Vietnamese) Accuracy: 28.20%\n",
      "245000 81% (5m 23s) 2.0944 Ventura / Japanese ✗ (Portuguese)\n",
      "245000 81% (5m 23s) 2.0944 Ventura / Japanese ✗ (Portuguese) Accuracy: 29.00%\n",
      "250000 83% (5m 39s) 2.8321 Ngai / Italian ✗ (Korean)\n",
      "250000 83% (5m 39s) 2.8321 Ngai / Italian ✗ (Korean) Accuracy: 29.70%\n",
      "255000 85% (5m 54s) 4.5411 Balabas / Greek ✗ (Russian)\n",
      "255000 85% (5m 54s) 4.5411 Balabas / Greek ✗ (Russian) Accuracy: 29.78%\n",
      "260000 86% (6m 9s) 1.3825 Delgado / Portuguese ✓\n",
      "260000 86% (6m 9s) 1.3825 Delgado / Portuguese ✓ Accuracy: 28.48%\n",
      "265000 88% (6m 24s) 2.1753 Jackson / Irish ✗ (Scottish)\n",
      "265000 88% (6m 24s) 2.1753 Jackson / Irish ✗ (Scottish) Accuracy: 28.42%\n",
      "270000 90% (6m 40s) 3.9254 Pey / Irish ✗ (Dutch)\n",
      "270000 90% (6m 40s) 3.9254 Pey / Irish ✗ (Dutch) Accuracy: 29.04%\n",
      "275000 91% (6m 48s) 1.8508 Gourlay / Irish ✗ (English)\n",
      "275000 91% (6m 48s) 1.8508 Gourlay / Irish ✗ (English) Accuracy: 28.84%\n",
      "280000 93% (6m 53s) 1.1387 Arrigucci / Italian ✓\n",
      "280000 93% (6m 53s) 1.1387 Arrigucci / Italian ✓ Accuracy: 29.70%\n",
      "285000 95% (7m 7s) 2.7379 Jessop / Vietnamese ✗ (English)\n",
      "285000 95% (7m 7s) 2.7379 Jessop / Vietnamese ✗ (English) Accuracy: 27.60%\n",
      "290000 96% (7m 21s) 0.9054 Frangopoulos / Greek ✓\n",
      "290000 96% (7m 22s) 0.9054 Frangopoulos / Greek ✓ Accuracy: 28.08%\n",
      "295000 98% (7m 35s) 1.6771 Stroud / Arabic ✗ (English)\n",
      "295000 98% (7m 35s) 1.6771 Stroud / Arabic ✗ (English) Accuracy: 28.56%\n",
      "300000 100% (7m 40s) 2.0822 Safar / German ✗ (Arabic)\n",
      "300000 100% (7m 40s) 2.0822 Safar / German ✗ (Arabic) Accuracy: 29.02%\n"
     ]
    }
   ],
   "source": [
    "import time\n",
    "import math\n",
    "\n",
    "n_iters = 300000\n",
    "# print_every = 5000\n",
    "print_every = 5000\n",
    "plot_every = 1000\n",
    "\n",
    "\n",
    "\n",
    "# Keep track of losses for plotting\n",
    "current_loss = 0\n",
    "all_losses = []\n",
    "\n",
    "correct_count = 0\n",
    "all_accuracy = []\n",
    "\n",
    "def timeSince(since):\n",
    "    now = time.time()\n",
    "    s = now - since\n",
    "    m = math.floor(s / 60)\n",
    "    s -= m * 60\n",
    "    return '%dm %ds' % (m, s)\n",
    "\n",
    "start = time.time()\n",
    "\n",
    "for iter in range(1, n_iters + 1):\n",
    "    category, line, category_tensor, line_tensor = randomTrainingExample()\n",
    "    output, loss = train(category_tensor, line_tensor)\n",
    "    current_loss += loss\n",
    "\n",
    "    guess, guess_i = categoryFromOutput(output[-1])\n",
    "    # guess, guess_i = categoryFromOutput(output)\n",
    "    correct = '✓' if guess == category else '✗ (%s)' % category\n",
    "    if correct == '✓':\n",
    "        correct_count += 1\n",
    "\n",
    "    # Print iter number, loss, name and guess\n",
    "    if iter % print_every == 0:\n",
    "        print('%d %d%% (%s) %.4f %s / %s %s' % (iter, iter / n_iters * 100, timeSince(start), loss, line, guess, correct))\n",
    "        \n",
    "        accuracy = correct_count / print_every * 100\n",
    "        print('%d %d%% (%s) %.4f %s / %s %s Accuracy: %.2f%%' % (iter, iter / n_iters * 100, timeSince(start), loss, line, guess, correct, accuracy))\n",
    "        all_accuracy.append(accuracy)\n",
    "        correct_count = 0  # 重置正确计数\n",
    "\n",
    "    # Add current loss avg to list of losses\n",
    "    if iter % plot_every == 0:\n",
    "        all_losses.append(current_loss / plot_every)\n",
    "        current_loss = 0"
   ]
  },
  {
   "cell_type": "markdown",
   "id": "9919c0b4",
   "metadata": {},
   "source": [
    "### Plotting the Results\n",
    "Plotting the historical loss from all_losses shows the network learning:"
   ]
  },
  {
   "cell_type": "code",
   "execution_count": 141,
   "id": "5533ea72",
   "metadata": {},
   "outputs": [
    {
     "data": {
      "text/plain": [
       "[<matplotlib.lines.Line2D at 0x2b8f0b8ffa0>]"
      ]
     },
     "execution_count": 141,
     "metadata": {},
     "output_type": "execute_result"
    },
    {
     "data": {
      "image/png": "[encoded data removed]",
      "text/plain": [
       "<Figure size 640x480 with 1 Axes>"
      ]
     },
     "metadata": {},
     "output_type": "display_data"
    },
    {
     "data": {
      "image/png": "[encoded data removed]",
      "text/plain": [
       "<Figure size 640x480 with 1 Axes>"
      ]
     },
     "metadata": {},
     "output_type": "display_data"
    }
   ],
   "source": [
    "import matplotlib.pyplot as plt\n",
    "import matplotlib.ticker as ticker\n",
    "\n",
    "plt.figure()\n",
    "plt.plot(all_losses)\n",
    "\n",
    "plt.figure()\n",
    "plt.plot(all_accuracy)\n"
   ]
  },
  {
   "cell_type": "markdown",
   "id": "44d8a092",
   "metadata": {},
   "source": [
    "### Evaluating the Results\n",
    "To see how well the network performs on different categories, we will create a confusion matrix, indicating for every actual language (rows) which language the network guesses (columns). To calculate the confusion matrix a bunch of samples are run through the network with evaluate(), which is the same as train() minus the backprop."
   ]
  },
  {
   "cell_type": "code",
   "execution_count": 142,
   "id": "71e6c595",
   "metadata": {
    "scrolled": true
   },
   "outputs": [
    {
     "name": "stderr",
     "output_type": "stream",
     "text": [
      "C:\\Users\\29467\\AppData\\Local\\Temp\\ipykernel_2972\\2733165307.py:42: UserWarning: set_ticklabels() should only be used with a fixed number of ticks, i.e. after set_ticks() or using a FixedLocator.\n",
      "  ax.set_xticklabels([''] + all_categories, rotation=90)\n",
      "C:\\Users\\29467\\AppData\\Local\\Temp\\ipykernel_2972\\2733165307.py:43: UserWarning: set_ticklabels() should only be used with a fixed number of ticks, i.e. after set_ticks() or using a FixedLocator.\n",
      "  ax.set_yticklabels([''] + all_categories)\n"
     ]
    },
    {
     "data": {
      "image/png": "[encoded data removed]",
      "text/plain": [
       "<Figure size 640x480 with 2 Axes>"
      ]
     },
     "metadata": {},
     "output_type": "display_data"
    }
   ],
   "source": [
    "# Keep track of correct guesses in a confusion matrix\n",
    "confusion = torch.zeros(n_categories, n_categories)\n",
    "n_confusion = 10000\n",
    "\n",
    "# Just return an output given a line\n",
    "def evaluate(line_tensor):\n",
    "    h0, c0 = lstm.initHidden(line_tensor)\n",
    "\n",
    "#     for i in range(line_tensor.size()[0]):\n",
    "    output, h, c = lstm(line_tensor, (h0, c0))\n",
    "\n",
    "    return output[-1]\n",
    "\n",
    "# rnn\n",
    "# def evaluate(line_tensor):\n",
    "#     h = lstm.initHidden()\n",
    "\n",
    "#     for i in range(line_tensor.size()[0]):\n",
    "#         output, h = lstm(line_tensor[i], h)\n",
    "\n",
    "#     return output\n",
    "\n",
    "# Go through a bunch of examples and record which are correctly guessed\n",
    "for i in range(n_confusion):\n",
    "    category, line, category_tensor, line_tensor = randomTrainingExample()\n",
    "    output = evaluate(line_tensor)\n",
    "    guess, guess_i = categoryFromOutput(output)\n",
    "    category_i = all_categories.index(category)\n",
    "    confusion[category_i][guess_i] += 1\n",
    "\n",
    "# Normalize by dividing every row by its sum\n",
    "for i in range(n_categories):\n",
    "    confusion[i] = confusion[i] / confusion[i].sum()\n",
    "\n",
    "# Set up plot\n",
    "fig = plt.figure()\n",
    "ax = fig.add_subplot(111)\n",
    "cax = ax.matshow(confusion.numpy())\n",
    "fig.colorbar(cax)\n",
    "\n",
    "# Set up axes\n",
    "ax.set_xticklabels([''] + all_categories, rotation=90)\n",
    "ax.set_yticklabels([''] + all_categories)\n",
    "\n",
    "# Force label at every tick\n",
    "ax.xaxis.set_major_locator(ticker.MultipleLocator(1))\n",
    "ax.yaxis.set_major_locator(ticker.MultipleLocator(1))\n",
    "\n",
    "# sphinx_gallery_thumbnail_number = 2\n",
    "plt.show()"
   ]
  },
  {
   "cell_type": "markdown",
   "id": "b65115e1",
   "metadata": {},
   "source": [
    "You can pick out bright spots off the main axis that show which languages it guesses incorrectly, e.g. Chinese for Korean, and Spanish for Italian. It seems to do very well with Greek, and very poorly with English (perhaps because of overlap with other languages)."
   ]
  },
  {
   "cell_type": "markdown",
   "id": "dfe1c01e",
   "metadata": {},
   "source": [
    "### Running on User Input"
   ]
  },
  {
   "cell_type": "code",
   "execution_count": 24,
   "id": "23a19ee4",
   "metadata": {},
   "outputs": [
    {
     "name": "stdout",
     "output_type": "stream",
     "text": [
      "\n",
      "> Dovesky\n",
      "(0.56) Czech\n",
      "(0.34) Russian\n",
      "(0.09) English\n",
      "\n",
      "> Jackson\n",
      "(0.77) Scottish\n",
      "(0.20) English\n",
      "(0.01) Greek\n",
      "\n",
      "> Hou\n",
      "(0.54) Chinese\n",
      "(0.38) Korean\n",
      "(0.07) Vietnamese\n"
     ]
    }
   ],
   "source": [
    "import math\n",
    "import numpy as np\n",
    "\n",
    "def predict(input_line, n_predictions=3):\n",
    "    print('\\n> %s' % input_line)\n",
    "    with torch.no_grad():\n",
    "        output = evaluate(lineToTensor(input_line))\n",
    "\n",
    "        # Get top N categories\n",
    "        topv, topi = output.topk(n_predictions, 1, True)\n",
    "        predictions = []\n",
    "\n",
    "        for i in range(n_predictions):\n",
    "            value = topv[0][i].item()\n",
    "            category_index = topi[0][i].item()\n",
    "            print('(%.2f) %s' % (np.exp(value), all_categories[category_index]))\n",
    "            predictions.append([value, all_categories[category_index]])\n",
    "\n",
    "predict('Dovesky')\n",
    "predict('Jackson')\n",
    "predict('Hou')"
   ]
  },
  {
   "cell_type": "code",
   "execution_count": null,
   "id": "3a170e12",
   "metadata": {},
   "outputs": [],
   "source": []
  }
 ],
 "metadata": {
  "kernelspec": {
   "display_name": "Python 3",
   "language": "python",
   "name": "python3"
  },
  "language_info": {
   "codemirror_mode": {
    "name": "ipython",
    "version": 3
   },
   "file_extension": ".py",
   "mimetype": "text/x-python",
   "name": "python",
   "nbconvert_exporter": "python",
   "pygments_lexer": "ipython3",
   "version": "3.9.18"
  }
 },
 "nbformat": 4,
 "nbformat_minor": 5
}
